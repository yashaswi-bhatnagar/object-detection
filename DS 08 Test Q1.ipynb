{
 "cells": [
  {
   "cell_type": "code",
   "execution_count": 1,
   "id": "4fe23760",
   "metadata": {},
   "outputs": [],
   "source": [
    "import pandas as pd\n",
    "import numpy as np"
   ]
  },
  {
   "cell_type": "code",
   "execution_count": 14,
   "id": "7b93ba75",
   "metadata": {},
   "outputs": [],
   "source": [
    "import matplotlib.pyplot as plt\n",
    "import seaborn as sns"
   ]
  },
  {
   "cell_type": "code",
   "execution_count": 7,
   "id": "c82cc2b5",
   "metadata": {},
   "outputs": [],
   "source": [
    "result = -484"
   ]
  },
  {
   "cell_type": "code",
   "execution_count": 8,
   "id": "d2e38d7e",
   "metadata": {},
   "outputs": [
    {
     "name": "stdout",
     "output_type": "stream",
     "text": [
      "5 3\n"
     ]
    }
   ],
   "source": [
    "x, y = list(map(int, input().split()))"
   ]
  },
  {
   "cell_type": "code",
   "execution_count": 9,
   "id": "4e80d0e8",
   "metadata": {},
   "outputs": [],
   "source": [
    "data = []"
   ]
  },
  {
   "cell_type": "code",
   "execution_count": 11,
   "id": "8f6b295d",
   "metadata": {},
   "outputs": [
    {
     "name": "stdout",
     "output_type": "stream",
     "text": [
      "-1.7 -0.17 1.2\n",
      "0.5 -0.01 2.1\n",
      "0.5 -1.6 -0.9\n",
      "-0.3 -0.0 -1.2\n",
      "-0.7 0.5 2.2\n"
     ]
    }
   ],
   "source": [
    "for _ in range(x):\n",
    "    data.append(list(map(float, input().split())))"
   ]
  },
  {
   "cell_type": "code",
   "execution_count": 78,
   "id": "da0b7634",
   "metadata": {},
   "outputs": [
    {
     "data": {
      "text/plain": [
       "[[-1.7, -0.17, 1.2],\n",
       " [0.5, -0.01, 2.1],\n",
       " [0.5, -1.6, -0.9],\n",
       " [-0.3, -0.0, -1.2],\n",
       " [-0.7, 0.5, 2.2]]"
      ]
     },
     "execution_count": 78,
     "metadata": {},
     "output_type": "execute_result"
    }
   ],
   "source": [
    "data"
   ]
  },
  {
   "cell_type": "code",
   "execution_count": 79,
   "id": "ee8d593c",
   "metadata": {},
   "outputs": [],
   "source": [
    "df = pd.DataFrame(data)"
   ]
  },
  {
   "cell_type": "code",
   "execution_count": 80,
   "id": "caecaffb",
   "metadata": {},
   "outputs": [
    {
     "data": {
      "text/html": [
       "<div>\n",
       "<style scoped>\n",
       "    .dataframe tbody tr th:only-of-type {\n",
       "        vertical-align: middle;\n",
       "    }\n",
       "\n",
       "    .dataframe tbody tr th {\n",
       "        vertical-align: top;\n",
       "    }\n",
       "\n",
       "    .dataframe thead th {\n",
       "        text-align: right;\n",
       "    }\n",
       "</style>\n",
       "<table border=\"1\" class=\"dataframe\">\n",
       "  <thead>\n",
       "    <tr style=\"text-align: right;\">\n",
       "      <th></th>\n",
       "      <th>0</th>\n",
       "      <th>1</th>\n",
       "      <th>2</th>\n",
       "    </tr>\n",
       "  </thead>\n",
       "  <tbody>\n",
       "    <tr>\n",
       "      <th>0</th>\n",
       "      <td>-1.7</td>\n",
       "      <td>-0.17</td>\n",
       "      <td>1.2</td>\n",
       "    </tr>\n",
       "    <tr>\n",
       "      <th>1</th>\n",
       "      <td>0.5</td>\n",
       "      <td>-0.01</td>\n",
       "      <td>2.1</td>\n",
       "    </tr>\n",
       "    <tr>\n",
       "      <th>2</th>\n",
       "      <td>0.5</td>\n",
       "      <td>-1.60</td>\n",
       "      <td>-0.9</td>\n",
       "    </tr>\n",
       "    <tr>\n",
       "      <th>3</th>\n",
       "      <td>-0.3</td>\n",
       "      <td>-0.00</td>\n",
       "      <td>-1.2</td>\n",
       "    </tr>\n",
       "    <tr>\n",
       "      <th>4</th>\n",
       "      <td>-0.7</td>\n",
       "      <td>0.50</td>\n",
       "      <td>2.2</td>\n",
       "    </tr>\n",
       "  </tbody>\n",
       "</table>\n",
       "</div>"
      ],
      "text/plain": [
       "     0     1    2\n",
       "0 -1.7 -0.17  1.2\n",
       "1  0.5 -0.01  2.1\n",
       "2  0.5 -1.60 -0.9\n",
       "3 -0.3 -0.00 -1.2\n",
       "4 -0.7  0.50  2.2"
      ]
     },
     "execution_count": 80,
     "metadata": {},
     "output_type": "execute_result"
    }
   ],
   "source": [
    "df"
   ]
  },
  {
   "cell_type": "code",
   "execution_count": 81,
   "id": "73cf441b",
   "metadata": {},
   "outputs": [
    {
     "data": {
      "text/html": [
       "<div>\n",
       "<style scoped>\n",
       "    .dataframe tbody tr th:only-of-type {\n",
       "        vertical-align: middle;\n",
       "    }\n",
       "\n",
       "    .dataframe tbody tr th {\n",
       "        vertical-align: top;\n",
       "    }\n",
       "\n",
       "    .dataframe thead th {\n",
       "        text-align: right;\n",
       "    }\n",
       "</style>\n",
       "<table border=\"1\" class=\"dataframe\">\n",
       "  <thead>\n",
       "    <tr style=\"text-align: right;\">\n",
       "      <th></th>\n",
       "      <th>No. 1</th>\n",
       "      <th>No. 2</th>\n",
       "      <th>No. 3</th>\n",
       "    </tr>\n",
       "  </thead>\n",
       "  <tbody>\n",
       "    <tr>\n",
       "      <th>0</th>\n",
       "      <td>-1.7</td>\n",
       "      <td>-0.17</td>\n",
       "      <td>1.2</td>\n",
       "    </tr>\n",
       "    <tr>\n",
       "      <th>1</th>\n",
       "      <td>0.5</td>\n",
       "      <td>-0.01</td>\n",
       "      <td>2.1</td>\n",
       "    </tr>\n",
       "    <tr>\n",
       "      <th>2</th>\n",
       "      <td>0.5</td>\n",
       "      <td>-1.60</td>\n",
       "      <td>-0.9</td>\n",
       "    </tr>\n",
       "    <tr>\n",
       "      <th>3</th>\n",
       "      <td>-0.3</td>\n",
       "      <td>-0.00</td>\n",
       "      <td>-1.2</td>\n",
       "    </tr>\n",
       "    <tr>\n",
       "      <th>4</th>\n",
       "      <td>-0.7</td>\n",
       "      <td>0.50</td>\n",
       "      <td>2.2</td>\n",
       "    </tr>\n",
       "  </tbody>\n",
       "</table>\n",
       "</div>"
      ],
      "text/plain": [
       "   No. 1  No. 2  No. 3\n",
       "0   -1.7  -0.17    1.2\n",
       "1    0.5  -0.01    2.1\n",
       "2    0.5  -1.60   -0.9\n",
       "3   -0.3  -0.00   -1.2\n",
       "4   -0.7   0.50    2.2"
      ]
     },
     "execution_count": 81,
     "metadata": {},
     "output_type": "execute_result"
    }
   ],
   "source": [
    "df.columns = ['No. 1','No. 2','No. 3']\n",
    "df"
   ]
  },
  {
   "cell_type": "code",
   "execution_count": 83,
   "id": "ced351cf",
   "metadata": {},
   "outputs": [],
   "source": [
    "cor_matrix = df.corr(method='pearson')"
   ]
  },
  {
   "cell_type": "code",
   "execution_count": 84,
   "id": "2cb33094",
   "metadata": {},
   "outputs": [
    {
     "data": {
      "text/html": [
       "<div>\n",
       "<style scoped>\n",
       "    .dataframe tbody tr th:only-of-type {\n",
       "        vertical-align: middle;\n",
       "    }\n",
       "\n",
       "    .dataframe tbody tr th {\n",
       "        vertical-align: top;\n",
       "    }\n",
       "\n",
       "    .dataframe thead th {\n",
       "        text-align: right;\n",
       "    }\n",
       "</style>\n",
       "<table border=\"1\" class=\"dataframe\">\n",
       "  <thead>\n",
       "    <tr style=\"text-align: right;\">\n",
       "      <th></th>\n",
       "      <th>No. 1</th>\n",
       "      <th>No. 2</th>\n",
       "      <th>No. 3</th>\n",
       "    </tr>\n",
       "  </thead>\n",
       "  <tbody>\n",
       "    <tr>\n",
       "      <th>No. 1</th>\n",
       "      <td>1.000000</td>\n",
       "      <td>-0.445826</td>\n",
       "      <td>-0.243830</td>\n",
       "    </tr>\n",
       "    <tr>\n",
       "      <th>No. 2</th>\n",
       "      <td>-0.445826</td>\n",
       "      <td>1.000000</td>\n",
       "      <td>0.616577</td>\n",
       "    </tr>\n",
       "    <tr>\n",
       "      <th>No. 3</th>\n",
       "      <td>-0.243830</td>\n",
       "      <td>0.616577</td>\n",
       "      <td>1.000000</td>\n",
       "    </tr>\n",
       "  </tbody>\n",
       "</table>\n",
       "</div>"
      ],
      "text/plain": [
       "          No. 1     No. 2     No. 3\n",
       "No. 1  1.000000 -0.445826 -0.243830\n",
       "No. 2 -0.445826  1.000000  0.616577\n",
       "No. 3 -0.243830  0.616577  1.000000"
      ]
     },
     "execution_count": 84,
     "metadata": {},
     "output_type": "execute_result"
    }
   ],
   "source": [
    "cor_matrix"
   ]
  },
  {
   "cell_type": "code",
   "execution_count": 85,
   "id": "e311890c",
   "metadata": {},
   "outputs": [],
   "source": [
    "np.fill_diagonal(cor_matrix.values, 0)"
   ]
  },
  {
   "cell_type": "code",
   "execution_count": 87,
   "id": "79fb4381",
   "metadata": {},
   "outputs": [
    {
     "data": {
      "text/html": [
       "<div>\n",
       "<style scoped>\n",
       "    .dataframe tbody tr th:only-of-type {\n",
       "        vertical-align: middle;\n",
       "    }\n",
       "\n",
       "    .dataframe tbody tr th {\n",
       "        vertical-align: top;\n",
       "    }\n",
       "\n",
       "    .dataframe thead th {\n",
       "        text-align: right;\n",
       "    }\n",
       "</style>\n",
       "<table border=\"1\" class=\"dataframe\">\n",
       "  <thead>\n",
       "    <tr style=\"text-align: right;\">\n",
       "      <th></th>\n",
       "      <th>No. 1</th>\n",
       "      <th>No. 2</th>\n",
       "      <th>No. 3</th>\n",
       "    </tr>\n",
       "  </thead>\n",
       "  <tbody>\n",
       "    <tr>\n",
       "      <th>No. 1</th>\n",
       "      <td>0.000000</td>\n",
       "      <td>-0.445826</td>\n",
       "      <td>-0.243830</td>\n",
       "    </tr>\n",
       "    <tr>\n",
       "      <th>No. 2</th>\n",
       "      <td>-0.445826</td>\n",
       "      <td>0.000000</td>\n",
       "      <td>0.616577</td>\n",
       "    </tr>\n",
       "    <tr>\n",
       "      <th>No. 3</th>\n",
       "      <td>-0.243830</td>\n",
       "      <td>0.616577</td>\n",
       "      <td>0.000000</td>\n",
       "    </tr>\n",
       "  </tbody>\n",
       "</table>\n",
       "</div>"
      ],
      "text/plain": [
       "          No. 1     No. 2     No. 3\n",
       "No. 1  0.000000 -0.445826 -0.243830\n",
       "No. 2 -0.445826  0.000000  0.616577\n",
       "No. 3 -0.243830  0.616577  0.000000"
      ]
     },
     "execution_count": 87,
     "metadata": {},
     "output_type": "execute_result"
    }
   ],
   "source": [
    "cor_matrix"
   ]
  },
  {
   "cell_type": "code",
   "execution_count": 33,
   "id": "a25d0c96",
   "metadata": {},
   "outputs": [
    {
     "name": "stderr",
     "output_type": "stream",
     "text": [
      "C:\\Users\\yawi1\\AppData\\Local\\Temp/ipykernel_1744/3673341754.py:1: DeprecationWarning: `np.bool` is a deprecated alias for the builtin `bool`. To silence this warning, use `bool` by itself. Doing this will not modify any behavior and is safe. If you specifically wanted the numpy scalar type, use `np.bool_` here.\n",
      "Deprecated in NumPy 1.20; for more details and guidance: https://numpy.org/devdocs/release/1.20.0-notes.html#deprecations\n",
      "  upper_tri = cor_matrix.where(np.triu(np.ones(cor_matrix.shape),k=1).astype(np.bool))\n"
     ]
    }
   ],
   "source": [
    "#upper_tri = cor_matrix.where(np.triu(np.ones(cor_matrix.shape),k=1).astype(np.bool))"
   ]
  },
  {
   "cell_type": "code",
   "execution_count": 34,
   "id": "b54d8638",
   "metadata": {},
   "outputs": [
    {
     "data": {
      "text/html": [
       "<div>\n",
       "<style scoped>\n",
       "    .dataframe tbody tr th:only-of-type {\n",
       "        vertical-align: middle;\n",
       "    }\n",
       "\n",
       "    .dataframe tbody tr th {\n",
       "        vertical-align: top;\n",
       "    }\n",
       "\n",
       "    .dataframe thead th {\n",
       "        text-align: right;\n",
       "    }\n",
       "</style>\n",
       "<table border=\"1\" class=\"dataframe\">\n",
       "  <thead>\n",
       "    <tr style=\"text-align: right;\">\n",
       "      <th></th>\n",
       "      <th>No. 1</th>\n",
       "      <th>No. 2</th>\n",
       "      <th>No. 3</th>\n",
       "    </tr>\n",
       "  </thead>\n",
       "  <tbody>\n",
       "    <tr>\n",
       "      <th>No. 1</th>\n",
       "      <td>NaN</td>\n",
       "      <td>-0.445826</td>\n",
       "      <td>-0.243830</td>\n",
       "    </tr>\n",
       "    <tr>\n",
       "      <th>No. 2</th>\n",
       "      <td>NaN</td>\n",
       "      <td>NaN</td>\n",
       "      <td>0.616577</td>\n",
       "    </tr>\n",
       "    <tr>\n",
       "      <th>No. 3</th>\n",
       "      <td>NaN</td>\n",
       "      <td>NaN</td>\n",
       "      <td>NaN</td>\n",
       "    </tr>\n",
       "  </tbody>\n",
       "</table>\n",
       "</div>"
      ],
      "text/plain": [
       "       No. 1     No. 2     No. 3\n",
       "No. 1    NaN -0.445826 -0.243830\n",
       "No. 2    NaN       NaN  0.616577\n",
       "No. 3    NaN       NaN       NaN"
      ]
     },
     "execution_count": 34,
     "metadata": {},
     "output_type": "execute_result"
    }
   ],
   "source": [
    "#upper_tri"
   ]
  },
  {
   "cell_type": "code",
   "execution_count": 42,
   "id": "6bdf0901",
   "metadata": {},
   "outputs": [],
   "source": [
    "sorted_mat = upper_tri.unstack().sort_values(ascending = False)"
   ]
  },
  {
   "cell_type": "code",
   "execution_count": 43,
   "id": "2356b68a",
   "metadata": {},
   "outputs": [
    {
     "data": {
      "text/plain": [
       "No. 3  No. 2    0.616577\n",
       "       No. 1   -0.243830\n",
       "No. 2  No. 1   -0.445826\n",
       "No. 1  No. 1         NaN\n",
       "       No. 2         NaN\n",
       "       No. 3         NaN\n",
       "No. 2  No. 2         NaN\n",
       "       No. 3         NaN\n",
       "No. 3  No. 3         NaN\n",
       "dtype: float64"
      ]
     },
     "execution_count": 43,
     "metadata": {},
     "output_type": "execute_result"
    }
   ],
   "source": [
    "sorted_mat"
   ]
  },
  {
   "cell_type": "code",
   "execution_count": 94,
   "id": "b101dff9",
   "metadata": {},
   "outputs": [],
   "source": [
    "max_col = [column for column in cor_matrix.columns if any(cor_matrix[column]==max(sorted_mat))]"
   ]
  },
  {
   "cell_type": "code",
   "execution_count": 95,
   "id": "75cc7e18",
   "metadata": {},
   "outputs": [
    {
     "data": {
      "text/plain": [
       "['No. 2', 'No. 3']"
      ]
     },
     "execution_count": 95,
     "metadata": {},
     "output_type": "execute_result"
    }
   ],
   "source": [
    "max_col"
   ]
  },
  {
   "cell_type": "code",
   "execution_count": 112,
   "id": "24998ee4",
   "metadata": {},
   "outputs": [],
   "source": [
    "df['New']=df[max_col[0]]*df[max_col[1]]"
   ]
  },
  {
   "cell_type": "code",
   "execution_count": 118,
   "id": "e0a4a9d1",
   "metadata": {},
   "outputs": [
    {
     "data": {
      "text/html": [
       "<div>\n",
       "<style scoped>\n",
       "    .dataframe tbody tr th:only-of-type {\n",
       "        vertical-align: middle;\n",
       "    }\n",
       "\n",
       "    .dataframe tbody tr th {\n",
       "        vertical-align: top;\n",
       "    }\n",
       "\n",
       "    .dataframe thead th {\n",
       "        text-align: right;\n",
       "    }\n",
       "</style>\n",
       "<table border=\"1\" class=\"dataframe\">\n",
       "  <thead>\n",
       "    <tr style=\"text-align: right;\">\n",
       "      <th></th>\n",
       "      <th>No. 1</th>\n",
       "      <th>No. 2</th>\n",
       "      <th>No. 3</th>\n",
       "      <th>New</th>\n",
       "    </tr>\n",
       "  </thead>\n",
       "  <tbody>\n",
       "    <tr>\n",
       "      <th>0</th>\n",
       "      <td>-1.7</td>\n",
       "      <td>-0.17</td>\n",
       "      <td>1.2</td>\n",
       "      <td>-0.204</td>\n",
       "    </tr>\n",
       "    <tr>\n",
       "      <th>1</th>\n",
       "      <td>0.5</td>\n",
       "      <td>-0.01</td>\n",
       "      <td>2.1</td>\n",
       "      <td>-0.021</td>\n",
       "    </tr>\n",
       "    <tr>\n",
       "      <th>2</th>\n",
       "      <td>0.5</td>\n",
       "      <td>-1.60</td>\n",
       "      <td>-0.9</td>\n",
       "      <td>1.440</td>\n",
       "    </tr>\n",
       "    <tr>\n",
       "      <th>3</th>\n",
       "      <td>-0.3</td>\n",
       "      <td>-0.00</td>\n",
       "      <td>-1.2</td>\n",
       "      <td>0.000</td>\n",
       "    </tr>\n",
       "    <tr>\n",
       "      <th>4</th>\n",
       "      <td>-0.7</td>\n",
       "      <td>0.50</td>\n",
       "      <td>2.2</td>\n",
       "      <td>1.100</td>\n",
       "    </tr>\n",
       "  </tbody>\n",
       "</table>\n",
       "</div>"
      ],
      "text/plain": [
       "   No. 1  No. 2  No. 3    New\n",
       "0   -1.7  -0.17    1.2 -0.204\n",
       "1    0.5  -0.01    2.1 -0.021\n",
       "2    0.5  -1.60   -0.9  1.440\n",
       "3   -0.3  -0.00   -1.2  0.000\n",
       "4   -0.7   0.50    2.2  1.100"
      ]
     },
     "execution_count": 118,
     "metadata": {},
     "output_type": "execute_result"
    }
   ],
   "source": [
    "df"
   ]
  },
  {
   "cell_type": "code",
   "execution_count": 119,
   "id": "a8c40edb",
   "metadata": {},
   "outputs": [],
   "source": [
    "df.drop(max_col, inplace=True, axis=1)"
   ]
  },
  {
   "cell_type": "code",
   "execution_count": 120,
   "id": "5f35d28f",
   "metadata": {},
   "outputs": [
    {
     "data": {
      "text/html": [
       "<div>\n",
       "<style scoped>\n",
       "    .dataframe tbody tr th:only-of-type {\n",
       "        vertical-align: middle;\n",
       "    }\n",
       "\n",
       "    .dataframe tbody tr th {\n",
       "        vertical-align: top;\n",
       "    }\n",
       "\n",
       "    .dataframe thead th {\n",
       "        text-align: right;\n",
       "    }\n",
       "</style>\n",
       "<table border=\"1\" class=\"dataframe\">\n",
       "  <thead>\n",
       "    <tr style=\"text-align: right;\">\n",
       "      <th></th>\n",
       "      <th>No. 1</th>\n",
       "      <th>New</th>\n",
       "    </tr>\n",
       "  </thead>\n",
       "  <tbody>\n",
       "    <tr>\n",
       "      <th>0</th>\n",
       "      <td>-1.7</td>\n",
       "      <td>-0.204</td>\n",
       "    </tr>\n",
       "    <tr>\n",
       "      <th>1</th>\n",
       "      <td>0.5</td>\n",
       "      <td>-0.021</td>\n",
       "    </tr>\n",
       "    <tr>\n",
       "      <th>2</th>\n",
       "      <td>0.5</td>\n",
       "      <td>1.440</td>\n",
       "    </tr>\n",
       "    <tr>\n",
       "      <th>3</th>\n",
       "      <td>-0.3</td>\n",
       "      <td>0.000</td>\n",
       "    </tr>\n",
       "    <tr>\n",
       "      <th>4</th>\n",
       "      <td>-0.7</td>\n",
       "      <td>1.100</td>\n",
       "    </tr>\n",
       "  </tbody>\n",
       "</table>\n",
       "</div>"
      ],
      "text/plain": [
       "   No. 1    New\n",
       "0   -1.7 -0.204\n",
       "1    0.5 -0.021\n",
       "2    0.5  1.440\n",
       "3   -0.3  0.000\n",
       "4   -0.7  1.100"
      ]
     },
     "execution_count": 120,
     "metadata": {},
     "output_type": "execute_result"
    }
   ],
   "source": [
    "df"
   ]
  },
  {
   "cell_type": "code",
   "execution_count": 123,
   "id": "e7872729",
   "metadata": {},
   "outputs": [
    {
     "data": {
      "text/plain": [
       "0   -0.95\n",
       "1    0.24\n",
       "2    0.97\n",
       "3   -0.15\n",
       "4    0.20\n",
       "dtype: float64"
      ]
     },
     "execution_count": 123,
     "metadata": {},
     "output_type": "execute_result"
    }
   ],
   "source": [
    "round(df.mean(axis=1),2)"
   ]
  },
  {
   "cell_type": "code",
   "execution_count": null,
   "id": "ded86340",
   "metadata": {},
   "outputs": [],
   "source": [
    "df"
   ]
  }
 ],
 "metadata": {
  "kernelspec": {
   "display_name": "Python 3 (ipykernel)",
   "language": "python",
   "name": "python3"
  },
  "language_info": {
   "codemirror_mode": {
    "name": "ipython",
    "version": 3
   },
   "file_extension": ".py",
   "mimetype": "text/x-python",
   "name": "python",
   "nbconvert_exporter": "python",
   "pygments_lexer": "ipython3",
   "version": "3.9.7"
  }
 },
 "nbformat": 4,
 "nbformat_minor": 5
}
